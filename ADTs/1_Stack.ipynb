{
 "cells": [
  {
   "attachments": {},
   "cell_type": "markdown",
   "metadata": {},
   "source": [
    "## Stack ADT\n",
    "\n",
    "There are 2 factors that make a Stack ADT\n",
    "\n",
    "1. (LIFO): **L**ast **I**n **F**irst **O**ut Process\n",
    "\n",
    "    - The last element to be added, is the first one to be deleted\n",
    "\n",
    "<br>\n",
    "\n",
    "2. Access to any other element is **unnecessary** (**NOT allowed**)\n",
    "\n",
    "    - Do **NOT** choose Stack ADT if you need to **access another element**\n",
    "\n",
    "    \n",
    "    - **ACCESS** is **ONLY AVAILABLE** at the **TOP** of **STACK**"
   ]
  },
  {
   "cell_type": "code",
   "execution_count": 18,
   "metadata": {},
   "outputs": [],
   "source": [
    "import unittest\n",
    "from abc import ABC, abstractmethod\n",
    "from typing import TypeVar, Generic\n",
    "from referential_array import ArrayR, T"
   ]
  },
  {
   "cell_type": "code",
   "execution_count": 19,
   "metadata": {},
   "outputs": [],
   "source": [
    "# Stack ADT\n",
    "\n",
    "class Stack(ABC, Generic[T]):\n",
    "    def __init__(self) -> None:\n",
    "        self.length = 0\n",
    "\n",
    "    @abstractmethod\n",
    "    def push(self,item:T) -> None:\n",
    "        \"\"\" Pushes an element to the top of the stack.\"\"\"\n",
    "        pass\n",
    "\n",
    "    @abstractmethod\n",
    "    def pop(self) -> T:\n",
    "        \"\"\" Pops an element from the top of the stack.\"\"\"\n",
    "        pass\n",
    "\n",
    "    @abstractmethod\n",
    "    def peek(self) -> T:\n",
    "        \"\"\" Pops the element at the top of the stack.\"\"\"\n",
    "        pass\n",
    "\n",
    "    def __len__(self) -> int:\n",
    "        \"\"\" Returns the number of elements in the stack.\"\"\"\n",
    "        return self.length\n",
    "\n",
    "    def is_empty(self) -> bool:\n",
    "        \"\"\" True if the stack is empty. \"\"\"\n",
    "        return len(self) == 0\n",
    "\n",
    "    @abstractmethod\n",
    "    def is_full(self) -> bool:\n",
    "        \"\"\" True if the stack is full and no element can be pushed. \"\"\"\n",
    "        pass\n",
    "\n",
    "    def clear(self):\n",
    "        \"\"\" Clears all elements from the stack. \"\"\"\n",
    "        self.length = 0"
   ]
  },
  {
   "attachments": {},
   "cell_type": "markdown",
   "metadata": {},
   "source": [
    "\n",
    "`__init__: O(1)`\n",
    "\n",
    "`__len__: O(1)`\n",
    "\n",
    "`is_empty: O(1)`\n",
    "\n",
    "`clear: O(1)`"
   ]
  },
  {
   "cell_type": "code",
   "execution_count": 20,
   "metadata": {},
   "outputs": [],
   "source": [
    "# ArrayStack Data Structure\n",
    "\n",
    "class ArrayStack(Stack[T]):\n",
    "    MIN_CAPACITY = 1\n",
    "\n",
    "    def __init__(self, max_capacity: int) -> None:\n",
    "        \"\"\" Initialises the length and the array with the given capacity.\n",
    "            If max_capacity is 0, the array is created with MIN_CAPACITY.\n",
    "        \"\"\"\n",
    "        Stack.__init__(self)    # O(1)\n",
    "        self.array = ArrayR(max(self.MIN_CAPACITY, max_capacity))   # O(N) or O(cap)\n",
    "\n",
    "\n",
    "    def is_full(self) -> bool:\n",
    "        \"\"\" True if the stack is full and no element can be pushed. \"\"\"\n",
    "        return len(self) == len(self.array)\n",
    "\n",
    "\n",
    "    def push(self, item: T) -> None:\n",
    "        \"\"\" Pushes an element to the top of the stack.\n",
    "        :pre: stack is not full\n",
    "        :raises Exception: if the stack is full\n",
    "        \"\"\"\n",
    "        if self.is_full():\n",
    "            raise Exception(\"Stack is full\")\n",
    "        self.array[len(self)] = item\n",
    "        self.length += 1\n",
    "\n",
    "\n",
    "    def pop(self) -> T:\n",
    "        \"\"\" Pops the element at the top of the stack.\n",
    "        :pre: stack is not empty\n",
    "        :raises Exception: if the stack is empty\n",
    "        \"\"\"\n",
    "        if self.is_empty():\n",
    "            raise Exception(\"Stack is empty\")\n",
    "        self.length -= 1\n",
    "        return self.array[self.length]\n",
    "\n",
    "\n",
    "    def peek(self) -> T:\n",
    "        \"\"\" Returns the element at the top, without popping it from stack.\n",
    "        :pre: stack is not empty\n",
    "        :raises Exception: if the stack is empty\n",
    "        \"\"\"\n",
    "        if self.is_empty():\n",
    "            raise Exception(\"Stack is empty\")\n",
    "        return self.array[self.length-1]"
   ]
  },
  {
   "attachments": {},
   "cell_type": "markdown",
   "metadata": {},
   "source": [
    "\n",
    "`__init__: O(N)`\n",
    "\n",
    "`push: O(1)`\n",
    "\n",
    "`pop: O(1)`\n",
    "\n",
    "`peek: O(1)`\n",
    "\n",
    "`is_full: O(1)`\n"
   ]
  },
  {
   "cell_type": "code",
   "execution_count": 21,
   "metadata": {},
   "outputs": [
    {
     "data": {
      "text/plain": [
       "'cba'"
      ]
     },
     "execution_count": 21,
     "metadata": {},
     "output_type": "execute_result"
    }
   ],
   "source": [
    "# Testing ArrayStack Data Structure\n",
    "\n",
    "def reverse(sequence):\n",
    "    stack = ArrayStack(len(sequence))\n",
    "    output = \"\"\n",
    "\n",
    "    # PUSHING\n",
    "    for item in sequence:   # O(N)\n",
    "        stack.push(item)    # O(1)\n",
    "\n",
    "    # POPPING\n",
    "    while not stack.is_empty(): # O(N)\n",
    "        item = stack.pop()      # O(1)\n",
    "        output += item          # O(Comp): Computation when string is concatenating\n",
    "\n",
    "    return output\n",
    "\n",
    "reverse(\"abc\")\n",
    "\n",
    "# Overall: O(N * 1) + O(N * 1 * Comp) => O(N)\n",
    "# Time Complexity: O(N)"
   ]
  }
 ],
 "metadata": {
  "kernelspec": {
   "display_name": "Python 3",
   "language": "python",
   "name": "python3"
  },
  "language_info": {
   "codemirror_mode": {
    "name": "ipython",
    "version": 3
   },
   "file_extension": ".py",
   "mimetype": "text/x-python",
   "name": "python",
   "nbconvert_exporter": "python",
   "pygments_lexer": "ipython3",
   "version": "3.11.4"
  },
  "orig_nbformat": 4,
  "vscode": {
   "interpreter": {
    "hash": "b0fa6594d8f4cbf19f97940f81e996739fb7646882a419484c72d19e05852a7e"
   }
  }
 },
 "nbformat": 4,
 "nbformat_minor": 2
}
