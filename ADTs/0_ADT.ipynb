{
 "cells": [
  {
   "attachments": {},
   "cell_type": "markdown",
   "metadata": {},
   "source": [
    "## Data Type:\n",
    "\n",
    "We can perform basic operations with them such as addition, subtraction, division, multiplication, etc. They have **implementation**.\n",
    "\n",
    "We can create data structures along with their operations, and such **data structures that are not in-built are known as Abstract Data Type (ADT)**.\n",
    "\n",
    "Ex: built-in list, dict, set, tuple , int, float, string\n",
    "\n",
    "<br>"
   ]
  },
  {
   "attachments": {},
   "cell_type": "markdown",
   "metadata": {},
   "source": [
    "## ADT (Abstract Data Type):\n",
    "\n",
    "ADT only mentions what operations are to be performed BUT not how these operations will be implemented\n",
    "\n",
    "\n",
    "\n",
    "**behaviors** (*semantics*) are **`defined`**, BUT **implementation** is **`ignored`**\n",
    "\n",
    "\n",
    "The process of providing only the essentials and hiding the details is known as **abstraction**.\n",
    "\n",
    "Ex: queueADT, setADT\n",
    "\n",
    "<br>\n"
   ]
  },
  {
   "attachments": {},
   "cell_type": "markdown",
   "metadata": {},
   "source": [
    "## Data Structures:\n",
    "\n",
    "Data Structures are when ADT Classes are **implemented** using *inheritance*\n",
    "\n",
    "\n",
    "\n",
    "Data Structures provides a particular way in which data is **physically organised**\n",
    "\n",
    "So that certain **operations\n",
    "can be performed efficiently**\n",
    "\n",
    "\n",
    "Ex: array, stack, queue\n",
    "\n",
    "<br>"
   ]
  }
 ],
 "metadata": {
  "kernelspec": {
   "display_name": "Python 3",
   "language": "python",
   "name": "python3"
  },
  "language_info": {
   "codemirror_mode": {
    "name": "ipython",
    "version": 3
   },
   "file_extension": ".py",
   "mimetype": "text/x-python",
   "name": "python",
   "nbconvert_exporter": "python",
   "pygments_lexer": "ipython3",
   "version": "3.11.4 (main, Jun 20 2023, 17:23:00) [Clang 14.0.3 (clang-1403.0.22.14.1)]"
  },
  "orig_nbformat": 4,
  "vscode": {
   "interpreter": {
    "hash": "b0fa6594d8f4cbf19f97940f81e996739fb7646882a419484c72d19e05852a7e"
   }
  }
 },
 "nbformat": 4,
 "nbformat_minor": 2
}
