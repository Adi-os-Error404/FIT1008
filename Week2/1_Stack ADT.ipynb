{
 "cells": [
  {
   "attachments": {},
   "cell_type": "markdown",
   "metadata": {},
   "source": [
    "# Stack ADT\n",
    "\n",
    "\n",
    "- There are 2 factors that make a Stack ADT\n",
    "\n",
    "    1. (LIFO): **L**ast **I**n **F**irst **O**ut Process\n",
    "    \n",
    "        - The last element to be added, is the first one to be deleted\n",
    "\n",
    "    <br>\n",
    "    \n",
    "\n",
    "    2. Access to any other element is **unnecessary** (**NOT allowed**)\n",
    "\n",
    "        - Do **NOT** choose Stack ADT if you need to **access another element**\n",
    "        \n",
    "        - **ACCESS** is **ONLY AVAILABLE** at the **TOP** of **STACK**\n",
    "\n",
    "<br>\n",
    "\n",
    "<img src=\"https://www.tutorialspoint.com/data_structures_algorithms/images/stack_representation.jpg\">"
   ]
  },
  {
   "attachments": {},
   "cell_type": "markdown",
   "metadata": {},
   "source": [
    "<br><hr>\n",
    "\n",
    "\n",
    "## Base Abstract Class: Stack class"
   ]
  },
  {
   "cell_type": "code",
   "execution_count": 4,
   "metadata": {},
   "outputs": [
    {
     "ename": "TypeError",
     "evalue": "Can't instantiate abstract class Stack with abstract methods is_full, peek, pop, push",
     "output_type": "error",
     "traceback": [
      "\u001b[0;31m---------------------------------------------------------------------------\u001b[0m",
      "\u001b[0;31mTypeError\u001b[0m                                 Traceback (most recent call last)",
      "Cell \u001b[0;32mIn[4], line 61\u001b[0m\n\u001b[1;32m     50\u001b[0m \u001b[39m\"\"\"\u001b[39;00m\n\u001b[1;32m     51\u001b[0m \u001b[39mBig-O of the implemented functions:\u001b[39;00m\n\u001b[1;32m     52\u001b[0m \n\u001b[0;32m   (...)\u001b[0m\n\u001b[1;32m     57\u001b[0m \n\u001b[1;32m     58\u001b[0m \u001b[39m\"\"\"\u001b[39;00m\n\u001b[1;32m     60\u001b[0m \u001b[39m# Should give an error as abstract class cannot be instantiated\u001b[39;00m\n\u001b[0;32m---> 61\u001b[0m x \u001b[39m=\u001b[39m Stack()\n",
      "\u001b[0;31mTypeError\u001b[0m: Can't instantiate abstract class Stack with abstract methods is_full, peek, pop, push"
     ]
    }
   ],
   "source": [
    "from abc import ABC, abstractmethod\n",
    "from typing import TypeVar, Generic\n",
    "\n",
    "\n",
    "# TypeVar 'T': a type of elements\n",
    "T = TypeVar('T')   \n",
    "\n",
    "\n",
    "# Generic lets us use the typeVar 'T'\n",
    "# ABC indicates the Stack class is an Abstract class\n",
    "class Stack(ABC, Generic[T]):\n",
    "    \n",
    "    \n",
    "    def __init__(self) -> None:\n",
    "        self.length = 0\n",
    "\n",
    "\n",
    "    @abstractmethod\n",
    "    def push(self, item: T) -> None:\n",
    "        pass\n",
    "\n",
    "\n",
    "    @abstractmethod\n",
    "    def pop(self) -> T:\n",
    "        pass\n",
    "\n",
    "\n",
    "    @abstractmethod\n",
    "    def peek(self) -> T:\n",
    "        pass\n",
    "\n",
    "\n",
    "    def __len__(self) -> int:\n",
    "        return self.length\n",
    "    \n",
    "    \n",
    "    # comparing cur_el (len of self) to 0\n",
    "    def is_empty(self) -> bool:\n",
    "        return len(self) == 0\n",
    "    \n",
    "\n",
    "    @abstractmethod\n",
    "    def is_full(self) -> bool:\n",
    "        pass\n",
    "\n",
    "\n",
    "    def clear(self) -> None:\n",
    "        self.length = 0\n",
    "\n",
    "\n",
    "\"\"\"\n",
    "Big-O of the implemented functions:\n",
    "\n",
    "• __init__: O(1)\n",
    "• __len__:  O(1) \n",
    "• is_empty: O(1) \n",
    "• clear:    O(1)\n",
    "\n",
    "\"\"\"\n",
    "\n",
    "# Should give an error as abstract class cannot be instantiated\n",
    "x = Stack()"
   ]
  },
  {
   "attachments": {},
   "cell_type": "markdown",
   "metadata": {},
   "source": [
    "<br><hr>\n",
    "\n",
    "## Inheriting Base Abstract Class: ArrayStack class"
   ]
  },
  {
   "cell_type": "code",
   "execution_count": null,
   "metadata": {},
   "outputs": [],
   "source": [
    "from referential_array import ArrayR\n",
    "\n",
    "\n",
    "class ArrayStack(Stack[T]):\n",
    "    MIN_CAPACITY = 1\n",
    "\n",
    "\n",
    "    def __init__(self, max_capacity: int) -> None:\n",
    "        self.array = ArrayR(max(ArrayStack.MIN_CAPACITY, max_capacity))\n",
    "        # to create self.array, Time Complexity = O(n) or O(capacity)\n",
    "        super().__init__()\n",
    "\n",
    "\n",
    "    # comparing cur els (len of self) to max els (len of self.array)\n",
    "    def is_full(self) -> bool:\n",
    "        return len(self) == len(self.array)\n",
    "    \n",
    "\n",
    "    def push(self, item: T) -> None:\n",
    "        if self.is_full():\n",
    "            raise Exception(\"Stack is full\")\n",
    "        \n",
    "        self.array[len(self)] = item \n",
    "        self.length += 1\n",
    "    \n",
    "\n",
    "    def pop(self) -> T:\n",
    "        if self.is_empty():\n",
    "            raise Exception(\"Stack is empty\")\n",
    "        \n",
    "        self.length -= 1\n",
    "        return self.array[self.length]\n",
    "    \n",
    "\n",
    "    def peek(self) -> T:\n",
    "        if self.is_empty():\n",
    "            raise Exception(\"Stack is empty\")\n",
    "        \n",
    "        return self.array[self.length-1]\n",
    "\n",
    "\n",
    "\n",
    "\"\"\"\n",
    "Big-O of the implemented functions:\n",
    "\n",
    "• __init__: O(n) or O(capacity)\n",
    "• is_full:  O(1)\n",
    "• push:     O(1)\n",
    "• pop:      O(1)\n",
    "• peek:     O(1)\n",
    "\n",
    "\"\"\"\n",
    "\n",
    "x = ArrayStack(3)"
   ]
  },
  {
   "attachments": {},
   "cell_type": "markdown",
   "metadata": {},
   "source": [
    "<br><hr>\n",
    "\n",
    "## Using the completed ArrayStack (Stack ADT)"
   ]
  },
  {
   "cell_type": "code",
   "execution_count": null,
   "metadata": {},
   "outputs": [],
   "source": [
    "# Ex 1: Reversing a sequence of items\n",
    "\n",
    "def reverse(sequence):\n",
    "    stack = ArrayStack(len(sequence))\n",
    "    output = \"\"\n",
    "\n",
    "    # PUSHING\n",
    "    for item in sequence:\n",
    "        stack.push(item)\n",
    "\n",
    "    # POPPING\n",
    "    while not stack.is_empty():\n",
    "        item = stack.pop()\n",
    "        output += item  # comp+ (Computation when string is concatenating)\n",
    "\n",
    "    return output\n",
    "\n",
    "# Time Complexity: O(n * comp+)\n",
    "reverse(\"abc\")"
   ]
  },
  {
   "attachments": {},
   "cell_type": "markdown",
   "metadata": {},
   "source": [
    "<img src=\"images/reverse.png\" width=\"500px\">"
   ]
  }
 ],
 "metadata": {
  "kernelspec": {
   "display_name": "Python 3",
   "language": "python",
   "name": "python3"
  },
  "language_info": {
   "codemirror_mode": {
    "name": "ipython",
    "version": 3
   },
   "file_extension": ".py",
   "mimetype": "text/x-python",
   "name": "python",
   "nbconvert_exporter": "python",
   "pygments_lexer": "ipython3",
   "version": "3.11.4"
  },
  "orig_nbformat": 4,
  "vscode": {
   "interpreter": {
    "hash": "b0fa6594d8f4cbf19f97940f81e996739fb7646882a419484c72d19e05852a7e"
   }
  }
 },
 "nbformat": 4,
 "nbformat_minor": 2
}
