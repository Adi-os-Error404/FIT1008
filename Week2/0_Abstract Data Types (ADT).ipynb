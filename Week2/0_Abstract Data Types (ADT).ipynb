{
 "cells": [
  {
   "attachments": {},
   "cell_type": "markdown",
   "metadata": {},
   "source": [
    "# Abstract Data Types (ADT)\n",
    "\n",
    "ADT is a  **collection of data values** with a **set of operattions** to perform on those values.\n",
    "\n",
    "- Common concept in lower level languages (C, Java, …)\n",
    "\n",
    "- Refers to a classification that determines:\n",
    "    - The possible values for that type\n",
    "    - The meaning of those values\n",
    "    - The operations that can be done on them\n",
    "    - The way those values are implemented"
   ]
  },
  {
   "attachments": {},
   "cell_type": "markdown",
   "metadata": {},
   "source": [
    "## Advantages of ADTs\n",
    "- Build programs without knowing their implementation\n",
    "    - Simplicity!\n",
    "\n",
    "<br>\n",
    "\n",
    "- The implementation can change without affecting you\n",
    "    - Maintenance!\n",
    "\n",
    "<br>\n",
    "\n",
    "- If several ADTs available, you could easily use any\n",
    "    - Flexibility and reusability!\n",
    "    \n",
    "<br>\n",
    "\n",
    "- Different compilers can use different implementations\n",
    "    - Portability!"
   ]
  },
  {
   "attachments": {},
   "cell_type": "markdown",
   "metadata": {},
   "source": [
    "<img src=\"images/adts.png\" width=\"600px\">"
   ]
  },
  {
   "attachments": {},
   "cell_type": "markdown",
   "metadata": {},
   "source": [
    "<hr>\n",
    "\n",
    "## Abstract Data types \n",
    "provide information about:\n",
    "\n",
    "- The possible values for that type\n",
    "- The meaning of those values\n",
    "- The operations that can be done on them\n",
    "- Example: lists and stacks (however they are implemented – don’t care)\n",
    "\n",
    "<hr>\n",
    "\n",
    "## Data Types \n",
    "provide the same info plus:\n",
    "- The way those values are implemented\n",
    "- Example: a stack for which I know (and make use of) how it is implemented\n",
    "\n",
    "<hr>\n",
    "\n",
    "## Data Structures \n",
    "provide information about:\n",
    "- The way in which data is physically organised in memory\n",
    "- The only operation it provides is access\n",
    "- Example: an array or a linked node\n",
    "\n",
    "<hr>"
   ]
  }
 ],
 "metadata": {
  "kernelspec": {
   "display_name": "Python 3",
   "language": "python",
   "name": "python3"
  },
  "language_info": {
   "codemirror_mode": {
    "name": "ipython",
    "version": 3
   },
   "file_extension": ".py",
   "mimetype": "text/x-python",
   "name": "python",
   "nbconvert_exporter": "python",
   "pygments_lexer": "ipython3",
   "version": "3.11.4 (main, Jun 20 2023, 17:23:00) [Clang 14.0.3 (clang-1403.0.22.14.1)]"
  },
  "orig_nbformat": 4,
  "vscode": {
   "interpreter": {
    "hash": "b0fa6594d8f4cbf19f97940f81e996739fb7646882a419484c72d19e05852a7e"
   }
  }
 },
 "nbformat": 4,
 "nbformat_minor": 2
}
