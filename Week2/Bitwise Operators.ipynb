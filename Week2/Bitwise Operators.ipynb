{
 "cells": [
  {
   "attachments": {},
   "cell_type": "markdown",
   "metadata": {},
   "source": [
    "# Python Bitwise Operators\n",
    "\n",
    "<hr>"
   ]
  },
  {
   "cell_type": "code",
   "execution_count": 42,
   "metadata": {},
   "outputs": [],
   "source": [
    "def display(a, b, result):\n",
    "    print(\"a:\\tbinary: {}\\tdecimal: {}\".format(bin(a), a))\n",
    "    if b != None:\n",
    "        print(\"b:\\tbinary: {}\\tdecimal: {}\".format(bin(b), b))\n",
    "    print(\"result:\\tbinary: {}\\tdecimal: {}\".format(bin(result), result))"
   ]
  },
  {
   "attachments": {},
   "cell_type": "markdown",
   "metadata": {},
   "source": [
    "1. AND ( & ):\n",
    "\n",
    "    The bitwise __AND__ operator compares the corresponding bits of two integers and produces a new integer where each bit is set to 1 only if both corresponding bits in the operands are 1; otherwise, it sets the bit to 0."
   ]
  },
  {
   "cell_type": "code",
   "execution_count": 43,
   "metadata": {},
   "outputs": [
    {
     "name": "stdout",
     "output_type": "stream",
     "text": [
      "a:\tbinary: 0b101\tdecimal: 5\n",
      "b:\tbinary: 0b11\tdecimal: 3\n",
      "result:\tbinary: 0b1\tdecimal: 1\n"
     ]
    }
   ],
   "source": [
    "a = 5           # binary: 0101\n",
    "b = 3           # binary: 0011\n",
    "result = a & b  # binary: 0001 (decimal: 1)\n",
    "\n",
    "display(a,b,result)"
   ]
  },
  {
   "attachments": {},
   "cell_type": "markdown",
   "metadata": {},
   "source": [
    "2. OR ( | ):\n",
    "\n",
    "    The bitwise __OR__ operator compares the corresponding bits of two integers and produces a new integer where each bit is set to 1 if at least one of the corresponding bits in the operands is 1; otherwise, it sets the bit to 0."
   ]
  },
  {
   "cell_type": "code",
   "execution_count": 44,
   "metadata": {},
   "outputs": [
    {
     "name": "stdout",
     "output_type": "stream",
     "text": [
      "a:\tbinary: 0b101\tdecimal: 5\n",
      "b:\tbinary: 0b11\tdecimal: 3\n",
      "result:\tbinary: 0b111\tdecimal: 7\n"
     ]
    }
   ],
   "source": [
    "a = 5           # binary: 0101\n",
    "b = 3           # binary: 0011\n",
    "result = a | b  # binary: 0111 (decimal: 7)\n",
    "\n",
    "display(a,b,result)"
   ]
  },
  {
   "attachments": {},
   "cell_type": "markdown",
   "metadata": {},
   "source": [
    "3. XOR ( ^ ):\n",
    "\n",
    "    The bitwise __XOR__ (exclusive OR) operator compares the corresponding bits of two integers and produces a new integer where each bit is set to 1 only if the corresponding bits in the operands are different; otherwise, it sets the bit to 0."
   ]
  },
  {
   "cell_type": "code",
   "execution_count": 45,
   "metadata": {},
   "outputs": [
    {
     "name": "stdout",
     "output_type": "stream",
     "text": [
      "a:\tbinary: 0b101\tdecimal: 5\n",
      "b:\tbinary: 0b11\tdecimal: 3\n",
      "result:\tbinary: 0b110\tdecimal: 6\n"
     ]
    }
   ],
   "source": [
    "a = 5           # binary: 0101\n",
    "b = 3           # binary: 0011\n",
    "result = a ^ b  # binary: 0110 (decimal: 6)\n",
    "\n",
    "display(a,b,result)"
   ]
  },
  {
   "attachments": {},
   "cell_type": "markdown",
   "metadata": {},
   "source": [
    "3. NOT ( ~ ):\n",
    "\n",
    "    The bitwise __NOT__ operator inverts the bits of an integer, turning 0s into 1s and 1s into 0s. \n",
    "    \n",
    "    It's a unary operator, meaning it takes only one operand."
   ]
  },
  {
   "cell_type": "code",
   "execution_count": 46,
   "metadata": {},
   "outputs": [
    {
     "name": "stdout",
     "output_type": "stream",
     "text": [
      "a:\tbinary: 0b101\tdecimal: 5\n",
      "result:\tbinary: -0b110\tdecimal: -6\n"
     ]
    }
   ],
   "source": [
    "a = 5           # binary: 0101\n",
    "result = ~ a    # binary: 1010 (decimal: platform-dependent)\n",
    "\n",
    "display(a,None,result)"
   ]
  },
  {
   "attachments": {},
   "cell_type": "markdown",
   "metadata": {},
   "source": [
    "4. Left Shift ( << ):\n",
    "\n",
    "    The bitwise __left shift__ operator shifts the bits of an integer to the left by a specified number of positions. \n",
    "    \n",
    "    This is equivalent to multiplying the integer by 2 raised to the power of the specified shift count."
   ]
  },
  {
   "cell_type": "code",
   "execution_count": 47,
   "metadata": {},
   "outputs": [
    {
     "name": "stdout",
     "output_type": "stream",
     "text": [
      "a:\tbinary: 0b101\tdecimal: 5\n",
      "result:\tbinary: 0b1010\tdecimal: 10\n"
     ]
    }
   ],
   "source": [
    "a = 5               # binary: 0101\n",
    "result = a << 1     # binary: 1010 (decimal: 10)\n",
    "\n",
    "display(a,None,result)"
   ]
  },
  {
   "attachments": {},
   "cell_type": "markdown",
   "metadata": {},
   "source": [
    "5. Right Shift ( >> ):\n",
    "\n",
    "    The bitwise **right shift** operator shifts the bits of an integer to the right by a specified number of positions.\n",
    "    \n",
    "    This is equivalent to dividing the integer by 2 raised to the power of the specified shift count (in case of non-negative integers)."
   ]
  },
  {
   "cell_type": "code",
   "execution_count": 51,
   "metadata": {},
   "outputs": [
    {
     "name": "stdout",
     "output_type": "stream",
     "text": [
      "a:\tbinary: 0b101\tdecimal: 5\n",
      "result:\tbinary: 0b10\tdecimal: 2\n"
     ]
    }
   ],
   "source": [
    "a = 5               # binary: 0101\n",
    "result = a >> 1     # binary: 0010 (decimal: 2)\n",
    "\n",
    "display(a,None,result)"
   ]
  },
  {
   "attachments": {},
   "cell_type": "markdown",
   "metadata": {},
   "source": [
    "#### Can also be used as **Arithmetic Operators**:\n",
    "\n",
    "<img src=\"images/bit_op.png\" width=\"700px\">"
   ]
  }
 ],
 "metadata": {
  "kernelspec": {
   "display_name": "Python 3",
   "language": "python",
   "name": "python3"
  },
  "language_info": {
   "codemirror_mode": {
    "name": "ipython",
    "version": 3
   },
   "file_extension": ".py",
   "mimetype": "text/x-python",
   "name": "python",
   "nbconvert_exporter": "python",
   "pygments_lexer": "ipython3",
   "version": "3.11.4"
  },
  "orig_nbformat": 4,
  "vscode": {
   "interpreter": {
    "hash": "b0fa6594d8f4cbf19f97940f81e996739fb7646882a419484c72d19e05852a7e"
   }
  }
 },
 "nbformat": 4,
 "nbformat_minor": 2
}
