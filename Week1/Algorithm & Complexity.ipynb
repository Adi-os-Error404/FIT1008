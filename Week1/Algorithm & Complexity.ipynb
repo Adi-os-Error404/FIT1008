{
 "cells": [
  {
   "attachments": {},
   "cell_type": "markdown",
   "metadata": {},
   "source": [
    "### General Computational Problem:\n",
    "\n",
    "> A well-specifies but subjective. \n",
    "\n",
    ">The problem defines input-to-output relationship. \n",
    "\n",
    ">Various problem instances exists.\n",
    "\n",
    "\n",
    "### Algorithm:\n",
    "\n",
    "> A __finite set of instructions__ that __correctly__ solves a General Computational Problem (well specified but subjective/biased).\n",
    "\n",
    "> It halts for any problem instance, and has __correct input-to-output relationship__.\n",
    "\n",
    "<br>\n",
    "\n",
    "<img src=\"https://media.geeksforgeeks.org/wp-content/cdn-uploads/20191016135223/What-is-Algorithm_-1024x631.jpg\" width=\"600px\">\n",
    "\n",
    "<br><hr><br>"
   ]
  },
  {
   "attachments": {},
   "cell_type": "markdown",
   "metadata": {},
   "source": [
    "### Algorithmic Complexity / Computational Complexity:\n",
    "\n",
    "##### Time Complexity:\n",
    "\n",
    "> An __asymptotic measure__ of the amount of time it takes for an algorithm to complete as a function of the __`size of the input`__. \n",
    "\n",
    "> It is usually expressed in terms of the __number of elementary operations__ performed. \n",
    "\n",
    "##### Space Complexity:\n",
    "\n",
    "> __Space needed__ by an algorithm solving a problem.\n",
    "\n",
    "> Usually measured as the amount of “memory” occupied.\n",
    "\n",
    "<br><hr><br>"
   ]
  },
  {
   "attachments": {},
   "cell_type": "markdown",
   "metadata": {},
   "source": [
    "### Time complexity as a function of size\n",
    "\n",
    "#### Algorithm’s time complexity can be measured as a function of input size\n",
    "\n",
    "> Given an input of `size 'n'`, we can calculate the value ___`T(n)`___\n",
    "\n",
    "> __Each elementary step__ contributes a `1` to the total value ___`T(n)`___\n",
    "\n",
    "#### Some important questions to ask:\n",
    "\n",
    "\n",
    "##### 1. What is `n` (input size)?\n",
    "\n",
    "1. __Numeric Input__: Length of the num's binary representation\n",
    "\n",
    "    - In general, `n` = _log<sub>2</sub>(n)_\n",
    "\n",
    "<br>\n",
    "\n",
    "2. __String Input__: Number of chars in the string\n",
    "\n",
    "    - `n` = _len(str)_\n",
    "\n",
    "<br>\n",
    "\n",
    "3. __Collection (array, list, set, stack)__ Input: Number of elements in collection\n",
    "\n",
    "    - `n` = _len(collection)_\n",
    "\n",
    "<br>\n",
    "\n",
    "##### 2. How does the algorithm perform when `n` is large?\n",
    "\n",
    "> We are mostly interested in the “order of approximation” of ___T(n)___\n",
    "\n",
    "> i.e. when `n` (input size) approaches `+ ∞` \n",
    "\n",
    "> T(n) when n -> +∞ = ___Big-O___ notation (approximation)\n",
    "\n",
    "\n",
    "<br><hr><br>"
   ]
  },
  {
   "attachments": {},
   "cell_type": "markdown",
   "metadata": {},
   "source": [
    "### Big-___O___ Notation:\n",
    "\n",
    "> ___Big-O___ notation is a way of describing an `asymptotic upper bound` on the time complexity of an algorithm with the growth of its input.\n",
    "\n",
    "> Similarly, Ω() and Θ() denote an _asymptotic lower bound and an asymptotic tight bound_, respectively. \n",
    "\n",
    "> Any of these symbols can be applied to either base-case, worst-case, or average-case complexity.\n",
    "\n",
    "<br>\n",
    "<img src=\"https://i.ytimg.com/vi/47GRtdHOKMg/maxresdefault.jpg\" width=\"700px\">\n",
    "\n",
    "<br><hr><br>"
   ]
  }
 ],
 "metadata": {
  "kernelspec": {
   "display_name": "Python 3",
   "language": "python",
   "name": "python3"
  },
  "language_info": {
   "codemirror_mode": {
    "name": "ipython",
    "version": 3
   },
   "file_extension": ".py",
   "mimetype": "text/x-python",
   "name": "python",
   "nbconvert_exporter": "python",
   "pygments_lexer": "ipython3",
   "version": "3.11.4"
  },
  "orig_nbformat": 4,
  "vscode": {
   "interpreter": {
    "hash": "aee8b7b246df8f9039afb4144a1f6fd8d2ca17a180786b69acc140d282b71a49"
   }
  }
 },
 "nbformat": 4,
 "nbformat_minor": 2
}
