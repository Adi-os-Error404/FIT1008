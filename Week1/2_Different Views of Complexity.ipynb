{
 "cells": [
  {
   "attachments": {},
   "cell_type": "markdown",
   "metadata": {},
   "source": [
    "## Different Views of Complexity\n",
    "\n",
    "\n",
    "Given an __input size of `n`__, the Time Complexity of an algorithm taking this input is measured _asymptotically_ __upper bound__;\n",
    "\n",
    "i.e. when __n -> ∞__, as the number of elementary steps : __T(_n_)__\n",
    "\n",
    "<br>\n",
    "<hr>\n"
   ]
  },
  {
   "attachments": {},
   "cell_type": "markdown",
   "metadata": {},
   "source": [
    "### Different views of Time Complexity:\n"
   ]
  },
  {
   "cell_type": "code",
   "execution_count": 3,
   "metadata": {},
   "outputs": [],
   "source": [
    "def sum_of_digits(x:int) -> int:\n",
    "\n",
    "    digit_sum = 0\n",
    "    while x > 0:\n",
    "        digit_sum += x % 10\n",
    "        x = x // 10\n",
    "\n",
    "\n",
    "sum_of_digits(123)"
   ]
  },
  {
   "attachments": {},
   "cell_type": "markdown",
   "metadata": {},
   "source": [
    "<hr>\n",
    "\n",
    "##### If we consider __input size of `n`__ = `NUMBER OF DIGITS`, then\n",
    "\n",
    "Time Complexity: __O(_n_)__\n",
    "\n",
    "Because the loop runs `n` amount of times\n",
    "\n",
    "<br>\n",
    "\n",
    "__`Ex`__: sum_of_digits(123)\n",
    "\n",
    "__input value `n`__ = __3__ (because 3 digits in '123')\n",
    "\n",
    "- 1st iter: \n",
    "    - sum=0 --> sum+3 --> sum=3\n",
    "- 2nd iter: \n",
    "    - sum=3 --> sum+2 --> sum=5\n",
    "- 3rd iter: \n",
    "    - sum=5 --> sum+1 --> sum=6\n",
    "\n",
    "sum_of_digits(123) -> 6\n",
    "\n",
    "`Iterating through all the digits one-by-one; hence O(n)`\n",
    "\n",
    "<br>\n",
    "\n",
    "\n",
    "<hr>"
   ]
  },
  {
   "attachments": {},
   "cell_type": "markdown",
   "metadata": {},
   "source": [
    "##### If consider __input size of `n`__ = `INPUT VALUE ITSELF`, then\n",
    "\n",
    "Time Complexity: __O(_log n_)__\n",
    "\n",
    "\n",
    "Because `n` is reducing by a factor of _10_ every iteration.\n",
    "\n",
    "<br>\n",
    "\n",
    "__`Ex`__: sum_of_digits(123)\n",
    "\n",
    "__input value `n`__ = __123__ (because '123' _iteself_ is the input size)\n",
    "\n",
    "- 1st iter: \n",
    "    - x=123 --> x = 12 (reduced by a factor of _10_)\n",
    "- 2nd iter:\n",
    "    - x=12 --> x = 1 (reduced by a factor of _10_)\n",
    "- 3rd iter:\n",
    "    - x=1 --> x = 0 (reduced by a factor of _10_)\n",
    "\n",
    "sum_of_digits(123) -> 6\n",
    "\n",
    "`Cutting the input value = size n by a factor of 10; hence O(log n)`\n",
    "\n",
    "`If the input size n was reduced one-by-one (subtracting 1) every iteraton; then only O(n)`\n",
    "\n",
    "\n",
    "<br>\n",
    "<hr>\n"
   ]
  },
  {
   "cell_type": "markdown",
   "metadata": {},
   "source": []
  }
 ],
 "metadata": {
  "kernelspec": {
   "display_name": "Python 3",
   "language": "python",
   "name": "python3"
  },
  "language_info": {
   "codemirror_mode": {
    "name": "ipython",
    "version": 3
   },
   "file_extension": ".py",
   "mimetype": "text/x-python",
   "name": "python",
   "nbconvert_exporter": "python",
   "pygments_lexer": "ipython3",
   "version": "3.11.4 (main, Jun 20 2023, 17:23:00) [Clang 14.0.3 (clang-1403.0.22.14.1)]"
  },
  "orig_nbformat": 4,
  "vscode": {
   "interpreter": {
    "hash": "b0fa6594d8f4cbf19f97940f81e996739fb7646882a419484c72d19e05852a7e"
   }
  }
 },
 "nbformat": 4,
 "nbformat_minor": 2
}
