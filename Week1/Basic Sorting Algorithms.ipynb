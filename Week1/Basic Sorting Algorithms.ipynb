{
 "cells": [
  {
   "attachments": {},
   "cell_type": "markdown",
   "metadata": {},
   "source": [
    "## Basic Sorting Algorithms\n",
    "\n",
    "<hr>\n",
    "\n",
    "### What is Invariant?\n",
    "- Invariant is a property that `remains unchanged`\n",
    "\n",
    "    - At a particular program point, or throughout an algorithm, a function, a module \n",
    "\n",
    "__Invaritants__ can be used to `improve`/`optimize` an algorithm\n",
    "\n",
    "<br>\n",
    "\n",
    "### What is Incremental?\n",
    "- An algorithm is incremental if it does ` NOT need to re-compute things after a small change (like adding a num to a sorted list)`\n",
    "\n",
    "    - It can `reuse most of the work` already done to handle the change\n",
    "\n",
    "<br>\n",
    "\n",
    "### What is Stable?\n",
    "- Maintains the relative order among elements\n",
    "\n",
    "<img src=\"images/stable1.png\" width=\"700px\">\n",
    "<img src=\"images/stable2.png\" width=\"364px\">\n",
    "\n",
    "<br><hr>\n",
    "\n",
    "### Lets look at 3 basic sorting algorithms:\n",
    "\n",
    "\n",
    "\n",
    "<img src=\"images/sorts.png\" width=\"500px\">\n",
    "\n",
    "\n",
    "<br><hr><br>"
   ]
  },
  {
   "cell_type": "code",
   "execution_count": 1,
   "metadata": {},
   "outputs": [],
   "source": [
    "# TEST CASE\n",
    "test0 = {\n",
    "    'input': {\n",
    "        'nums': [5, -12, 2, 6, 1, 23, 7, 7, -12, 6, 12, 1, -243, 1, 0]\n",
    "    },\n",
    "    'output': [-243, -12, -12, 0, 1, 1, 1, 2, 5, 6, 6, 7, 7, 12, 23]\n",
    "}"
   ]
  },
  {
   "attachments": {},
   "cell_type": "markdown",
   "metadata": {},
   "source": [
    "<br><hr>\n",
    "\n",
    "### Bubble Sort\n",
    "\n",
    "#### Invariants:\n",
    "\n",
    "> After every traversal, the list has the same elements\n",
    "\n",
    "> In each traversal at most n-1 swaps are performed, where `n` is the length of the list\n",
    "\n",
    "We can use the below variant to optimize the Bubble Sort\n",
    "> After every traversal, the `largest` yet unsorted `element gets to its final place` (rightmost elements)\n",
    "\n",
    "\n",
    "#### Incremental:\n",
    "\n",
    "> If we append a number at the end of the list, it only take a __`few main-loop iterations`- Not very incremental__.\n",
    "\n",
    "> However, if add anumber in the beginning of the list, it only takes __`1 main-loop iteration`- Very incremental__.\n",
    "\n",
    "\n",
    "#### Stable:\n",
    "\n",
    "> Bubble Sort is __stable__\n",
    "\n",
    "> But careful, a small change (>= rather than > `strict conditional`) makes it non stable\n"
   ]
  },
  {
   "cell_type": "code",
   "execution_count": 2,
   "metadata": {},
   "outputs": [],
   "source": [
    "def bubble_sort(nums):\n",
    "    n = len(nums)\n",
    "\n",
    "    # Iterate the outer loop n-1 times\n",
    "    for x in range(n-1): \n",
    "\n",
    "        # Traverse through each element\n",
    "        for i in range(n-1): \n",
    "            if nums[i] > nums[i+1]: # if curr el > next el\n",
    "                nums[i], nums[i+1] = nums[i+1], nums[i] # swap them\n",
    "\n",
    "    return nums"
   ]
  },
  {
   "cell_type": "code",
   "execution_count": 3,
   "metadata": {},
   "outputs": [
    {
     "name": "stdout",
     "output_type": "stream",
     "text": [
      "passed test0\n",
      "\n",
      "CPU times: user 33 µs, sys: 5 µs, total: 38 µs\n",
      "Wall time: 39.1 µs\n"
     ]
    }
   ],
   "source": [
    "%%time\n",
    "if bubble_sort(test0['input']['nums'][:]) == test0['output']:\n",
    "    print('passed test0\\n')"
   ]
  },
  {
   "attachments": {},
   "cell_type": "markdown",
   "metadata": {},
   "source": [
    "<br><hr>\n",
    "\n",
    "### Optimized Bubble Sort\n",
    "\n",
    "#### Invariants:\n",
    "\n",
    "> After every traversal, the `largest` unsorted `element gets to its final place` (rightmost elements)\n",
    "\n",
    "How is using the above variant useful?\n",
    "\n",
    "- Each iteration can avoid comparing the last element moved\n",
    "\n",
    "\n",
    "#### Incremental:\n",
    "\n",
    "> If we append a number at the end of the list, it only take a __`few main-loop iterations`- Not very incremental__.\n",
    "\n",
    "> However, if add anumber in the beginning of the list, it only takes __`1 main-loop iteration`- Very incremental__.\n",
    "\n",
    "\n",
    "#### Stable:\n",
    "\n",
    "> Optimized Bubble Sort is __stable__\n",
    "\n",
    "> But careful, a small change (>= rather than > `strict conditional`) makes it non stable\n"
   ]
  },
  {
   "cell_type": "code",
   "execution_count": 4,
   "metadata": {},
   "outputs": [],
   "source": [
    "def bubble_sort_optimized(nums):\n",
    "    n = len(nums)\n",
    "\n",
    "    for x in range(n-1): # Iterate the outer loop n-1 times\n",
    "       \n",
    "        swapped = False # Reset swapped after completion of every inner loop\n",
    "\n",
    "        # Decrementing range by 1 for every iteration done by the outer loop\n",
    "        for i in range(n-1 - x): \n",
    "            if nums[i] > nums[i+1]:\n",
    "                nums[i], nums[i+1] = nums[i+1], nums[i]\n",
    "                swapped = True\n",
    "\n",
    "        # if no swapping orccurs, the list or remain numbers in the list is already sorted, so return it\n",
    "        if not swapped: \n",
    "            return nums\n",
    "        \n",
    "    return nums"
   ]
  },
  {
   "cell_type": "code",
   "execution_count": 5,
   "metadata": {},
   "outputs": [
    {
     "name": "stdout",
     "output_type": "stream",
     "text": [
      "passed test0\n",
      "\n",
      "CPU times: user 30 µs, sys: 1 µs, total: 31 µs\n",
      "Wall time: 34.1 µs\n"
     ]
    }
   ],
   "source": [
    "%%time\n",
    "if bubble_sort_optimized(test0['input']['nums'][:]) == test0['output']:\n",
    "    print('passed test0\\n')"
   ]
  },
  {
   "attachments": {},
   "cell_type": "markdown",
   "metadata": {},
   "source": [
    "<br><hr>\n",
    "\n",
    "### Selection Sort\n",
    "\n",
    "\n",
    "#### Invariants:\n",
    "\n",
    "> The swapped numbers on the left-most side will remain unchanged once swapped.\n",
    "\n",
    "\n",
    "#### Incremental:\n",
    "\n",
    ">  Selection Sort needs to do __all the work again__, so it is ___NOT___ Incremental\n",
    "\n",
    "\n",
    "#### Stable:\n",
    "\n",
    "> Selection Sort is __swapping non-consecutive elements__, so it is ___NOT___ __stable__.\n",
    "\n",
    "> Ex: If there are 2 same elements, they will not be stable.\n"
   ]
  },
  {
   "cell_type": "code",
   "execution_count": 6,
   "metadata": {},
   "outputs": [],
   "source": [
    "def get_min_idx(nums, cur_min_idx):\n",
    "\n",
    "    # start the loop from cur_min_idx + 1 to the len(nums)-1\n",
    "    for i in range(cur_min_idx+1, len(nums)):\n",
    "\n",
    "        # if the i_th_el is less that cur_min_el\n",
    "        if nums[i] < nums[cur_min_idx]:\n",
    "            cur_min_idx = i # change the cur_min_idx to i\n",
    "\n",
    "    return cur_min_idx\n",
    "\n",
    "\n",
    "def selection_sort(nums):\n",
    "    n = len(nums)\n",
    "\n",
    "    # run the main-loop n-1 times\n",
    "    for i in range(n-1):\n",
    "        min_idx = get_min_idx(nums, i) # get the min_idx\n",
    "\n",
    "        # swap the curr_el with the min_el\n",
    "        nums[i], nums[min_idx] = nums[min_idx], nums[i]\n",
    "    return nums"
   ]
  },
  {
   "cell_type": "code",
   "execution_count": 7,
   "metadata": {},
   "outputs": [
    {
     "name": "stdout",
     "output_type": "stream",
     "text": [
      "passed test0\n",
      "\n",
      "CPU times: user 35 µs, sys: 2 µs, total: 37 µs\n",
      "Wall time: 41.2 µs\n"
     ]
    }
   ],
   "source": [
    "%%time\n",
    "if selection_sort(test0['input']['nums'][:]) == test0['output']:\n",
    "    print('passed test0\\n')"
   ]
  },
  {
   "attachments": {},
   "cell_type": "markdown",
   "metadata": {},
   "source": [
    "<br><hr>\n",
    "\n",
    "### Insertion Sort\n",
    "\n",
    "#### Invariants:\n",
    "\n",
    "> Elements to the left are sorted and `grow by 1 each main-loop iteration`.\n",
    "\n",
    "#### Incremental:\n",
    "\n",
    "> Everything to the left is sorted but might not be in its final position.\n",
    "\n",
    "> So, `it is Incremental` if w appending a new element at the end. \n",
    "\n",
    "\n",
    "#### Stable:\n",
    "\n",
    "> Insertion Sort is __stable__.\n",
    "\n",
    "> But careful, a small change (>= rather than > `strict conditional`) makes it non stable."
   ]
  },
  {
   "cell_type": "code",
   "execution_count": 8,
   "metadata": {},
   "outputs": [],
   "source": [
    "# Insertion Sort is like how we sort cards\n",
    "# We assume that the firs element is sorted\n",
    "# Then we take the card next to it out and see if we need to place the card before the sorted card or after\n",
    "# We repeat this process until, untill all the cards are sorted\n",
    "\n",
    "def insertion_sort(nums):\n",
    "    n = len(nums)\n",
    "    \n",
    "    # assuming the first element (at idx=0) is sorted, \n",
    "    # so the main loop need to start at idx=1 to get the next el/card which is not sorted\n",
    "    for x in range(1, n): # running n-1 times\n",
    "\n",
    "        cur_el = nums.pop(x) # take the curr_el/card out which is next to the sorted_el/card\n",
    "\n",
    "        # i=x-1 because we will need to start checking from the sorted_el which comes right before the cur_el\n",
    "        i = x - 1 \n",
    "\n",
    "        # the loop has a condition which helps find the idx where the cur_el needs to be placed\n",
    "        while i >= 0 and nums[i] > cur_el:\n",
    "            i -= 1\n",
    "        nums.insert(i+1, cur_el) # place that cur_el/card at the correct spot\n",
    "    \n",
    "    return nums"
   ]
  },
  {
   "cell_type": "code",
   "execution_count": 9,
   "metadata": {},
   "outputs": [
    {
     "name": "stdout",
     "output_type": "stream",
     "text": [
      "passed test0\n",
      "\n",
      "CPU times: user 25 µs, sys: 5 µs, total: 30 µs\n",
      "Wall time: 32.9 µs\n"
     ]
    }
   ],
   "source": [
    "%%time\n",
    "if insertion_sort(test0['input']['nums'][:]) == test0['output']:\n",
    "    print('passed test0\\n')"
   ]
  },
  {
   "attachments": {},
   "cell_type": "markdown",
   "metadata": {},
   "source": [
    "<br><hr><br>\n",
    "\n",
    "<div style=\"display:flex; justify-content: center;\">\n",
    "<table class=\"tg\" style=\"align-self: center;\">\n",
    "<thead>\n",
    "  <tr>\n",
    "    <th class=\"tg-bzci\" colspan=\"5\"><span style=\"font-weight:bold;font-style:italic; font-size:28px;\"><center>Sorting Complexities</center></span></th>\n",
    "  </tr>\n",
    "</thead>\n",
    "<tbody>\n",
    "  <tr>\n",
    "    <td class=\"tg-eroe\" colspan=\"2\"><span style=\"font-weight:bold\">Bubble Sort</span></td>\n",
    "    <td class=\"tg-0lax\" rowspan=\"5\"></td>\n",
    "    <td class=\"tg-dffh\" colspan=\"2\"><span style=\"font-weight:bold\">Optimized Bubble Sort</span></td>\n",
    "  </tr>\n",
    "  <tr>\n",
    "    <td class=\"tg-1wig\">Time Complexity (wort-case):</td>\n",
    "    <td class=\"tg-rvyq\">O(2^n)</td>\n",
    "    <td class=\"tg-fymr\">Time Complexity (wort-case):</td>\n",
    "    <td class=\"tg-rvyq\"><span>O(2^n)</span></td>\n",
    "  </tr>\n",
    "  <tr>\n",
    "    <td class=\"tg-1wig\">Time Complexity (average-case):</td>\n",
    "    <td class=\"tg-rvyq\">O(2^n)</td>\n",
    "    <td class=\"tg-fymr\">Time Complexity (average-case):</td>\n",
    "    <td class=\"tg-rvyq\"><span>O(2^n)</span></td>\n",
    "  </tr>\n",
    "  <tr>\n",
    "    <td class=\"tg-1wig\">Time Complexity (best-case):</td>\n",
    "    <td class=\"tg-rvyq\">O(2^n)</td>\n",
    "    <td class=\"tg-fymr\">Time Complexity (best-case):</td>\n",
    "    <td class=\"tg-rvyq\"><span>O(n)</span></td>\n",
    "  </tr>\n",
    "  <tr>\n",
    "    <td class=\"tg-1wig\">Space Complexity:</td>\n",
    "    <td class=\"tg-ihln\">O(1)</td>\n",
    "    <td class=\"tg-1wig\">Space Complexity:</td>\n",
    "    <td class=\"tg-ihln\"><span>O(1)</span></td>\n",
    "  </tr>\n",
    "  <tr>\n",
    "    <td class=\"tg-0lax\" colspan=\"2\"></td>\n",
    "    <td class=\"tg-0lax\"></td>\n",
    "    <td class=\"tg-0lax\" colspan=\"2\"></td>\n",
    "  </tr>\n",
    "  <tr>\n",
    "    <td class=\"tg-eroe\" colspan=\"2\"><span style=\"font-weight:bold\">Selection Sort</span></td>\n",
    "    <td class=\"tg-0lax\" rowspan=\"5\"></td>\n",
    "    <td class=\"tg-eroe\" colspan=\"2\"><span style=\"font-weight:bold\">Insertion Sort</span></td>\n",
    "  </tr>\n",
    "  <tr>\n",
    "    <td class=\"tg-1wig\">Time Complexity (wort-case):</td>\n",
    "    <td class=\"tg-ihln\">O(2^n)</td>\n",
    "    <td class=\"tg-1wig\">Time Complexity (wort-case):</td>\n",
    "    <td class=\"tg-ihln\">O(2^n)</td>\n",
    "  </tr>\n",
    "  <tr>\n",
    "    <td class=\"tg-1wig\">Time Complexity (average-case):</td>\n",
    "    <td class=\"tg-ihln\">O(2^n)</td>\n",
    "    <td class=\"tg-1wig\">Time Complexity (average-case):</td>\n",
    "    <td class=\"tg-ihln\">O(2^n)</td>\n",
    "  </tr>\n",
    "  <tr>\n",
    "    <td class=\"tg-1wig\">Time Complexity (best-case):</td>\n",
    "    <td class=\"tg-ihln\">O(2^n)</td>\n",
    "    <td class=\"tg-1wig\">Time Complexity (best-case):</td>\n",
    "    <td class=\"tg-ihln\">O(2^n)</td>\n",
    "  </tr>\n",
    "  <tr>\n",
    "    <td class=\"tg-1wig\">Space Complexity:</td>\n",
    "    <td class=\"tg-ihln\">O(1)</td>\n",
    "    <td class=\"tg-1wig\">Space Complexity:</td>\n",
    "    <td class=\"tg-ihln\">O(1)</td>\n",
    "  </tr>\n",
    "</tbody>\n",
    "</table>\n",
    "</div>\n",
    "<br><hr>"
   ]
  },
  {
   "attachments": {},
   "cell_type": "markdown",
   "metadata": {},
   "source": [
    "### Lets test each Sortin Algorithm using a long random list"
   ]
  },
  {
   "cell_type": "code",
   "execution_count": 10,
   "metadata": {},
   "outputs": [],
   "source": [
    "import random\n",
    "in_list = list(range(10000))\n",
    "out_list = list(range(10000))\n",
    "random.shuffle(in_list)\n",
    "big_test = {\n",
    "    'input': {\n",
    "        'nums': in_list\n",
    "    },\n",
    "    'output': out_list\n",
    "}"
   ]
  },
  {
   "cell_type": "code",
   "execution_count": 11,
   "metadata": {},
   "outputs": [
    {
     "name": "stdout",
     "output_type": "stream",
     "text": [
      "BUBBLE SORT\n",
      "\n",
      "CPU times: user 6.09 s, sys: 57 ms, total: 6.15 s\n",
      "Wall time: 6.15 s\n"
     ]
    }
   ],
   "source": [
    "%%time\n",
    "if bubble_sort(big_test['input']['nums'][:]) == big_test['output']:\n",
    "    print('BUBBLE SORT\\n')"
   ]
  },
  {
   "cell_type": "code",
   "execution_count": 12,
   "metadata": {},
   "outputs": [
    {
     "name": "stdout",
     "output_type": "stream",
     "text": [
      "OPTIMIZED BUBBLE SORT\n",
      "\n",
      "CPU times: user 3.99 s, sys: 31.2 ms, total: 4.02 s\n",
      "Wall time: 4.03 s\n"
     ]
    }
   ],
   "source": [
    "%%time\n",
    "if bubble_sort_optimized(big_test['input']['nums'][:]) == big_test['output']:\n",
    "    print('OPTIMIZED BUBBLE SORT\\n')"
   ]
  },
  {
   "cell_type": "code",
   "execution_count": 13,
   "metadata": {},
   "outputs": [
    {
     "name": "stdout",
     "output_type": "stream",
     "text": [
      "SELECTION SORT\n",
      "\n",
      "CPU times: user 1.59 s, sys: 13.8 ms, total: 1.61 s\n",
      "Wall time: 1.6 s\n"
     ]
    }
   ],
   "source": [
    "%%time\n",
    "if selection_sort(big_test['input']['nums'][:]) == big_test['output']:\n",
    "    print('SELECTION SORT\\n')"
   ]
  },
  {
   "cell_type": "code",
   "execution_count": 14,
   "metadata": {},
   "outputs": [
    {
     "name": "stdout",
     "output_type": "stream",
     "text": [
      "INSERTION SORT\n",
      "\n",
      "CPU times: user 946 ms, sys: 6.93 ms, total: 953 ms\n",
      "Wall time: 952 ms\n"
     ]
    }
   ],
   "source": [
    "%%time\n",
    "if insertion_sort(big_test['input']['nums'][:]) == big_test['output']:\n",
    "    print('INSERTION SORT\\n')"
   ]
  },
  {
   "attachments": {},
   "cell_type": "markdown",
   "metadata": {},
   "source": [
    "<br><hr>\n",
    "\n",
    "### Ranking of each Sorting Algorithms for a `long-random list of numbers`:\n",
    "\n",
    "#### 1. Insertion Sort (952 ms)\n",
    "#### 2. Selection Sort (1.60 s)\n",
    "#### 3. Optimized Bubbke Sort (4.03 s)\n",
    "#### 4. Bubble Sort (6.15 s)"
   ]
  }
 ],
 "metadata": {
  "kernelspec": {
   "display_name": "Python 3",
   "language": "python",
   "name": "python3"
  },
  "language_info": {
   "codemirror_mode": {
    "name": "ipython",
    "version": 3
   },
   "file_extension": ".py",
   "mimetype": "text/x-python",
   "name": "python",
   "nbconvert_exporter": "python",
   "pygments_lexer": "ipython3",
   "version": "3.11.4"
  },
  "orig_nbformat": 4,
  "vscode": {
   "interpreter": {
    "hash": "aee8b7b246df8f9039afb4144a1f6fd8d2ca17a180786b69acc140d282b71a49"
   }
  }
 },
 "nbformat": 4,
 "nbformat_minor": 2
}
