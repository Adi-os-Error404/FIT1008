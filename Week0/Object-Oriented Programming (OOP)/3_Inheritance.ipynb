{
 "cells": [
  {
   "attachments": {},
   "cell_type": "markdown",
   "metadata": {},
   "source": [
    "## Inheritance\n",
    "\n",
    "> Inheritance is the capability of one class to __derive or inherit__ the __properties__ from another class. \n",
    "\n",
    "> The class that derives properties is called the __derived class or child class__.\n",
    "\n",
    "> The class from which the properties are being derived is called the __base class or parent class__.\n",
    "\n",
    "\n",
    "<img src=\"https://static.au.edusercontent.com/files/lOMrK6e0aULZ5QCKO7kc8HHm\" width=\"500px\">\n",
    "\n",
    "<br>\n",
    "\n",
    "\n",
    "### Types of Inheritance\n",
    "\n",
    "- Single Inheritance: it enables a derived class to inherit characteristics from a single-parent class.\n",
    "\n",
    "- Multilevel Inheritance: it enables a derived class to inherit properties from an immediate parent class, which in turn inherits properties from its parent class. \n",
    "\n",
    "- Hierarchical Inheritance: it enables more than one derived class to inherit properties from a parent class.\n",
    "\n",
    "- Multiple Inheritance: it enables one derived class to inherit properties from more than one base class.\n",
    "\n",
    "\n",
    "\n",
    "\n",
    "\n"
   ]
  },
  {
   "cell_type": "code",
   "execution_count": 30,
   "metadata": {},
   "outputs": [],
   "source": [
    "# Parent Class\n",
    "class Person(object):\n",
    " \n",
    "    # __init__ is known as the constructor\n",
    "    def __init__(self, name, idnumber):\n",
    "        self.name = name\n",
    "        self.idnumber = idnumber\n",
    " \n",
    " \n",
    "    def display(self):\n",
    "        print(\"Name: {}\".format(self.name))\n",
    "        print(\"ID Number: {}\".format(self.idnumber))\n"
   ]
  },
  {
   "cell_type": "code",
   "execution_count": 31,
   "metadata": {},
   "outputs": [],
   "source": [
    "# child class\n",
    "class Employee(Person):\n",
    "    def __init__(self, name, idnumber, salary, post):\n",
    "        self.post = post\n",
    "        self.salary = salary\n",
    "\n",
    "        # invoking the __init__ of the parent class\n",
    "        Person.__init__(self, name, idnumber)       # using Parent class name\n",
    "        # super().__init__(name, idnumber)          # using super()\n",
    "\n",
    "         \n",
    "    def details(self):\n",
    "        super().display()          # using super()\n",
    "        # Person.display(self)     # using Parent class name\n",
    "\n",
    "        print(\"Post: {}\".format(self.post))\n",
    "        print(\"Salary: ${}\".format(self.salary))"
   ]
  },
  {
   "cell_type": "code",
   "execution_count": 32,
   "metadata": {},
   "outputs": [
    {
     "name": "stdout",
     "output_type": "stream",
     "text": [
      "Person/Parent Class Method:\n",
      "Name: Carti\n",
      "ID Number: 31\n",
      "\n",
      "Employee/Child Class Method:\n",
      "Name: Carti\n",
      "ID Number: 31\n",
      "Post: Vamp\n",
      "Salary: $300000\n"
     ]
    }
   ],
   "source": [
    "\n",
    "# creation of an object variable or an instance\n",
    "emp = Employee('Carti', 31, 300000, \"Vamp\")\n",
    "    \n",
    "# calling parent class (Person) function\n",
    "print(\"Person/Parent Class Method:\")\n",
    "emp.display()\n",
    "\n",
    "\n",
    "# calling parent class (Employee) function\n",
    "print(\"\\nEmployee/Child Class Method:\")\n",
    "emp.details()"
   ]
  },
  {
   "cell_type": "code",
   "execution_count": 22,
   "metadata": {},
   "outputs": [],
   "source": [
    "class A:\n",
    "    x = 1\n",
    "    def __init__(self):\n",
    "        self.y = 1\n",
    "\n",
    "\n",
    "class B(A):\n",
    "    y = 2\n",
    "    def __init__(self):\n",
    "        self.x = 2\n",
    "        super().__init__()\n",
    "\n",
    "\n",
    "class C(B):\n",
    "    z = 3\n",
    "    def __init__(self):\n",
    "        pass\n",
    "\n",
    "\n",
    "a = A()\n",
    "b = B()\n",
    "c = C()"
   ]
  },
  {
   "cell_type": "code",
   "execution_count": 27,
   "metadata": {},
   "outputs": [
    {
     "name": "stdout",
     "output_type": "stream",
     "text": [
      "a.x: 1 \ta.y: 1\n"
     ]
    }
   ],
   "source": [
    "print(\"a.x:\", a.x, \"\\ta.y:\", a.y)"
   ]
  },
  {
   "cell_type": "code",
   "execution_count": 24,
   "metadata": {},
   "outputs": [
    {
     "name": "stdout",
     "output_type": "stream",
     "text": [
      "b.x: 2 \tb.y: 1\n"
     ]
    }
   ],
   "source": [
    "print(\"b.x:\", b.x, \"\\tb.y:\", b.y)\n",
    "\n",
    "# While B.y = 2, as part of the initialisation of class B, we defer to the __init__ method of A, \n",
    "# which sets an instance variable y to 1. So b.y is 1.\n",
    "\n",
    "\n",
    "# When executing b = B() , we create an object, call it obj, and then run B's initialisation function on the object: B.__init__(obj). This sets obj.x = 2 , and then b points to this newly created object, so b.x is 2 (Note that B.x is 1, since it inherits the class variable from A)."
   ]
  },
  {
   "cell_type": "code",
   "execution_count": 25,
   "metadata": {},
   "outputs": [
    {
     "name": "stdout",
     "output_type": "stream",
     "text": [
      "c.x: 1 \tc.y: 2 \tc.z: 3\n"
     ]
    }
   ],
   "source": [
    "print(\"c.x:\", c.x, \"\\tc.y:\", c.y, \"\\tc.z:\", c.z)\n",
    "\n",
    "# When executing c = C() , we create an object, call it obj, and then run C's initialisation function on the object: C.__init__(obj). This does nothing. So c.x = C.x, c.y = C.y, c.z = C.z, since there are no instance variables, we defer to the class variables.\n",
    "\n",
    "# C.x is 1, because C is a child of A which has class variable x=1.\n",
    "\n",
    "# C.y is 2, because C is a child of B which has class variable y=2.\n",
    "\n",
    "# C.z is 3, because C has class variable z=3."
   ]
  }
 ],
 "metadata": {
  "kernelspec": {
   "display_name": "Python 3",
   "language": "python",
   "name": "python3"
  },
  "language_info": {
   "codemirror_mode": {
    "name": "ipython",
    "version": 3
   },
   "file_extension": ".py",
   "mimetype": "text/x-python",
   "name": "python",
   "nbconvert_exporter": "python",
   "pygments_lexer": "ipython3",
   "version": "3.11.4"
  },
  "orig_nbformat": 4,
  "vscode": {
   "interpreter": {
    "hash": "aee8b7b246df8f9039afb4144a1f6fd8d2ca17a180786b69acc140d282b71a49"
   }
  }
 },
 "nbformat": 4,
 "nbformat_minor": 2
}
