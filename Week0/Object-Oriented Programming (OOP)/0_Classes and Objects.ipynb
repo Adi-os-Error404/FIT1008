{
 "cells": [
  {
   "attachments": {},
   "cell_type": "markdown",
   "metadata": {},
   "source": [
    "## Classes and Objects\n",
    "\n",
    "### What are Classes?\n",
    "> Classes are used to provide a blueprint or template for something we're trying to represent.\n",
    "\n",
    "\n",
    "\n",
    "### What are Objects?\n",
    "> Objects are instances from a particular class. You can have multiple instances (objects) from a single class.\n",
    "\n",
    "<br>\n",
    "\n",
    "## Fundamentals of OOP\n",
    "\n",
    "\n",
    "<img src=\"https://static.au.edusercontent.com/files/BoAhQJvUZqaaIrCjMhtXCtKf\" width=\"600px\">\n",
    "\n",
    "<br>\n",
    "\n",
    "### In Python, every value is actually an object."
   ]
  },
  {
   "cell_type": "code",
   "execution_count": 1,
   "metadata": {},
   "outputs": [
    {
     "name": "stdout",
     "output_type": "stream",
     "text": [
      "Dictionary: <class 'dict'>\n"
     ]
    }
   ],
   "source": [
    "dictionary = {'python': 'awesome'}\n",
    "print('Dictionary:', type(dictionary))"
   ]
  },
  {
   "cell_type": "code",
   "execution_count": 2,
   "metadata": {},
   "outputs": [
    {
     "name": "stdout",
     "output_type": "stream",
     "text": [
      "List: <class 'list'>\n"
     ]
    }
   ],
   "source": [
    "a_list = [1, 2, 3, 4]\n",
    "print('List:', type(a_list))"
   ]
  },
  {
   "cell_type": "code",
   "execution_count": 3,
   "metadata": {},
   "outputs": [
    {
     "name": "stdout",
     "output_type": "stream",
     "text": [
      "Number: <class 'int'>\n"
     ]
    }
   ],
   "source": [
    "num = 1\n",
    "print('Number:', type(num))"
   ]
  },
  {
   "cell_type": "code",
   "execution_count": 4,
   "metadata": {},
   "outputs": [
    {
     "name": "stdout",
     "output_type": "stream",
     "text": [
      "Function: <class 'function'>\n"
     ]
    }
   ],
   "source": [
    "def some_function():\n",
    "    pass\n",
    "print('Function:', type(some_function))"
   ]
  },
  {
   "cell_type": "code",
   "execution_count": 5,
   "metadata": {},
   "outputs": [
    {
     "name": "stdout",
     "output_type": "stream",
     "text": [
      "Custom class: <class '__main__.Student'>\n"
     ]
    }
   ],
   "source": [
    "class Student:\n",
    "    pass\n",
    "student = Student()\n",
    "print('Custom class:', type(student))"
   ]
  }
 ],
 "metadata": {
  "kernelspec": {
   "display_name": "Python 3",
   "language": "python",
   "name": "python3"
  },
  "language_info": {
   "codemirror_mode": {
    "name": "ipython",
    "version": 3
   },
   "file_extension": ".py",
   "mimetype": "text/x-python",
   "name": "python",
   "nbconvert_exporter": "python",
   "pygments_lexer": "ipython3",
   "version": "3.11.4 (v3.11.4:d2340ef257, Jun  6 2023, 19:15:51) [Clang 13.0.0 (clang-1300.0.29.30)]"
  },
  "orig_nbformat": 4,
  "vscode": {
   "interpreter": {
    "hash": "aee8b7b246df8f9039afb4144a1f6fd8d2ca17a180786b69acc140d282b71a49"
   }
  }
 },
 "nbformat": 4,
 "nbformat_minor": 2
}
