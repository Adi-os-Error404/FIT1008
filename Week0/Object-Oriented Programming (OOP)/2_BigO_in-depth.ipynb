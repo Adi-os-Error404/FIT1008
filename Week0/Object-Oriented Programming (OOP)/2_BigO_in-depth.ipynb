{
 "cells": [
  {
   "attachments": {},
   "cell_type": "markdown",
   "metadata": {},
   "source": [
    "## Time Complexity and Big-O\n",
    "\n",
    "\n",
    "Given an __input size of `n`__, the Time Complexity of an algorithm taking this input is measured _asymptotically_ __upper bound__;\n",
    "\n",
    "i.e. when __n -> ∞__, as the number of elementary steps : __T(_n_)__\n",
    "\n",
    "<br>\n",
    "<hr>\n"
   ]
  },
  {
   "attachments": {},
   "cell_type": "markdown",
   "metadata": {},
   "source": [
    "### Different views of Time Complexity:\n"
   ]
  },
  {
   "cell_type": "code",
   "execution_count": 6,
   "metadata": {},
   "outputs": [
    {
     "data": {
      "text/plain": [
       "6"
      ]
     },
     "execution_count": 6,
     "metadata": {},
     "output_type": "execute_result"
    }
   ],
   "source": [
    "def sum_of_digits(x:int) -> int:\n",
    "\n",
    "    digit_sum = 0\n",
    "    while x > 0:\n",
    "        digit_sum += x % 10\n",
    "        x = x // 10\n",
    "\n",
    "    return digit_sum\n",
    "\n",
    "sum_of_digits(123)"
   ]
  },
  {
   "attachments": {},
   "cell_type": "markdown",
   "metadata": {},
   "source": [
    "<hr>\n",
    "\n",
    "##### If we consider __input size of `n`__ as the `NUMBER OF DIGITS`, then\n",
    "\n",
    "Time Complexity: __O(_n_)__\n",
    "\n",
    "Because the loop runs `n` amount of times\n",
    "\n",
    "<br>\n",
    "\n",
    "Ex: sum_of_digits(123)\n",
    "\n",
    "- 1st iter: \n",
    "    - sum=0 --> sum+3 --> sum=3\n",
    "- 2nd iter: \n",
    "    - sum=3 --> sum+2 --> sum=5\n",
    "- 3rd iter: \n",
    "    - sum=5 --> sum+1 --> sum=6\n",
    "\n",
    "sum_of_digits(123) -> 6\n",
    "\n",
    "<br>\n",
    "\n",
    "\n",
    "<hr>"
   ]
  },
  {
   "attachments": {},
   "cell_type": "markdown",
   "metadata": {},
   "source": [
    "##### If consider __input size of `n`__ as the `VALUE ITSELF`, then\n",
    "\n",
    "Time Complexity: __O(_log n_)__\n",
    "\n",
    "\n",
    "Because `n` is reducing by a factor of _10_ every iteration.\n",
    "\n",
    "<br>\n",
    "\n",
    "Ex: sum_of_digits(123)\n",
    "\n",
    "- 1st iter: \n",
    "    - x=123 --> x = 12 (reduced by a factor of _10_)\n",
    "- 2nd iter:\n",
    "    - x=12 --> x = 1 (reduced by a factor of _10_)\n",
    "- 3rd iter:\n",
    "    - x=1 --> x = 0 (reduced by a factor of _10_)\n",
    "\n",
    "sum_of_digits(123) -> 6\n",
    "\n",
    "\n",
    "<br>\n",
    "<hr>\n"
   ]
  }
 ],
 "metadata": {
  "kernelspec": {
   "display_name": "Python 3",
   "language": "python",
   "name": "python3"
  },
  "language_info": {
   "codemirror_mode": {
    "name": "ipython",
    "version": 3
   },
   "file_extension": ".py",
   "mimetype": "text/x-python",
   "name": "python",
   "nbconvert_exporter": "python",
   "pygments_lexer": "ipython3",
   "version": "3.11.4"
  },
  "orig_nbformat": 4,
  "vscode": {
   "interpreter": {
    "hash": "aee8b7b246df8f9039afb4144a1f6fd8d2ca17a180786b69acc140d282b71a49"
   }
  }
 },
 "nbformat": 4,
 "nbformat_minor": 2
}
