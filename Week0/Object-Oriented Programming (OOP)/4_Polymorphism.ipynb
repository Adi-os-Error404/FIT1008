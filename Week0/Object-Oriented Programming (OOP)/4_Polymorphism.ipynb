{
 "cells": [
  {
   "attachments": {},
   "cell_type": "markdown",
   "metadata": {},
   "source": [
    "## Polymorphism\n",
    "\n",
    "Polymorphism simply means having many forms. \n",
    "\n",
    "For example, we need to determine if the given species of birds fly or not, using polymorphism we can do this using a single method defined differently in various classes. \n"
   ]
  },
  {
   "cell_type": "code",
   "execution_count": 14,
   "metadata": {},
   "outputs": [],
   "source": [
    "class Bird:\n",
    "   \n",
    "    def intro(self):\n",
    "        print(\"There are many types of birds.\\n\")\n",
    " \n",
    "    def flight(self):\n",
    "        print(\"Most of the birds can fly but some cannot.\\n\")\n",
    " \n",
    "\n",
    "\n",
    "class Sparrow(Bird):\n",
    "   \n",
    "    def flight(self):\n",
    "        print(\"Sparrows can fly.\\n\")\n",
    " \n",
    "\n",
    "\n",
    "class Ostrich(Bird):\n",
    " \n",
    "    def flight(self):\n",
    "        print(\"Ostriches cannot fly.\\n\")\n",
    " \n",
    "\n",
    "# input: an obj is passed in\n",
    "def try_flying(any_bird: Bird):\n",
    "    any_bird.flight()"
   ]
  },
  {
   "cell_type": "code",
   "execution_count": 15,
   "metadata": {},
   "outputs": [
    {
     "name": "stdout",
     "output_type": "stream",
     "text": [
      "There are many types of birds.\n",
      "\n",
      "There are many types of birds.\n",
      "\n",
      "There are many types of birds.\n",
      "\n"
     ]
    }
   ],
   "source": [
    "bird = Bird()\n",
    "spr = Sparrow()\n",
    "ost = Ostrich()\n",
    "\n",
    "\n",
    "bird.intro()\n",
    "spr.intro()\n",
    "ost.intro()"
   ]
  },
  {
   "cell_type": "code",
   "execution_count": 16,
   "metadata": {},
   "outputs": [
    {
     "name": "stdout",
     "output_type": "stream",
     "text": [
      "Most of the birds can fly but some cannot.\n",
      "\n",
      "Sparrows can fly.\n",
      "\n",
      "Ostriches cannot fly.\n",
      "\n"
     ]
    }
   ],
   "source": [
    "try_flying(bird)\n",
    "\n",
    "try_flying(spr)\n",
    "\n",
    "try_flying(ost)"
   ]
  },
  {
   "attachments": {},
   "cell_type": "markdown",
   "metadata": {},
   "source": [
    "This code demonstrates the concept of inheritance and polymorphism, where a method of a parent class is overridden by a child class. It shows how subclasses can override methods defined in their parent class to provide specific behavior while still inheriting other methods from the parent class.\n",
    "\n",
    "The try_flying method can type hint the argument as of type bird, and we can still call methods reimplemented from the child class in different ways.\n",
    "\n",
    "We can use polymorphism hand-in-hand with inheritance to create some pretty powerful class structures in Python, which make your code not only short but also extremely efficient to read and understand."
   ]
  }
 ],
 "metadata": {
  "kernelspec": {
   "display_name": "Python 3",
   "language": "python",
   "name": "python3"
  },
  "language_info": {
   "codemirror_mode": {
    "name": "ipython",
    "version": 3
   },
   "file_extension": ".py",
   "mimetype": "text/x-python",
   "name": "python",
   "nbconvert_exporter": "python",
   "pygments_lexer": "ipython3",
   "version": "3.11.4"
  },
  "orig_nbformat": 4,
  "vscode": {
   "interpreter": {
    "hash": "aee8b7b246df8f9039afb4144a1f6fd8d2ca17a180786b69acc140d282b71a49"
   }
  }
 },
 "nbformat": 4,
 "nbformat_minor": 2
}
