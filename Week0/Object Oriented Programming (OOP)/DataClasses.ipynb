{
 "cells": [
  {
   "attachments": {},
   "cell_type": "markdown",
   "metadata": {},
   "source": [
    "## A basic Student Class"
   ]
  },
  {
   "cell_type": "code",
   "execution_count": 1,
   "metadata": {},
   "outputs": [],
   "source": [
    "class Student:\n",
    "    CURRENT_ID: int = 1000000 # Can count number of instances/objs exist\n",
    "\n",
    "    def __init__(self, name: str, age: int, gender: str) -> None:\n",
    "        self.name = name\n",
    "        self.age = age\n",
    "        self.gender = gender\n",
    "        self.student_id = Student.CURRENT_ID\n",
    "        Student.CURRENT_ID+=1\n",
    "\n",
    "\n",
    "    def sleep(self) -> None:\n",
    "        print(\"zzzzzzzz\")\n",
    "\n",
    "    def __str__(self) -> str:\n",
    "        return \"ID: {}, Name: {}, Age: {}, Gender: {}\".format(self.student_id, self.name, self.age, self.gender)"
   ]
  },
  {
   "cell_type": "code",
   "execution_count": 2,
   "metadata": {},
   "outputs": [
    {
     "name": "stdout",
     "output_type": "stream",
     "text": [
      "ID: 1000000, Name: Bob, Age: 18, Gender: male\n",
      "ID: 1000001, Name: Sarah, Age: 19, Gender: female\n",
      "ID: 1000002, Name: Adi, Age: 19, Gender: make\n"
     ]
    }
   ],
   "source": [
    "student1 = Student('Bob', 18, 'male')\n",
    "print(student1)\n",
    "\n",
    "student2 = Student('Sarah', 19, 'female')\n",
    "print(student2)\n",
    "\n",
    "student3 = Student('Adi', 19, 'make')\n",
    "print(student3)"
   ]
  },
  {
   "attachments": {},
   "cell_type": "markdown",
   "metadata": {},
   "source": [
    "<hr><br>\n",
    "\n",
    "## Using DataClasses to create the same Student Class\n",
    "\n",
    "> Dataclasses were introduced into Python in 3.7. They are a way of **quickly defining classe**s with data and allowing python to **autogenerate some of the code** for us. \n",
    "\n",
    "\n",
    "\n",
    "The **@dataclass** decorator automatically generates the following methods for you:\n",
    "\n",
    "\n",
    "\n",
    "1. init(): Initializes the object and assigns the provided values to the attributes\n",
    "\n",
    "2. repr(): Provides a string representation of the object\n",
    "\n",
    "3. eq(): Implements equality comparison between two objects of the class based on their attributes\n",
    "\n",
    "More Info on DataClasses: https://docs.python.org/3/library/dataclasses.html\n"
   ]
  },
  {
   "cell_type": "code",
   "execution_count": 3,
   "metadata": {},
   "outputs": [],
   "source": [
    "from dataclasses import dataclass, field\n",
    "from typing import ClassVar\n",
    "\n",
    "\n",
    "@dataclass\n",
    "class Student:\n",
    "\n",
    "    # Class Varibale\n",
    "    CURRENT_ID: ClassVar[int] = 1000000\n",
    "\n",
    "    # the 3 vars below are the args in the __init__(name, age, gender)\n",
    "    name: str\n",
    "    age: int\n",
    "    gender: str\n",
    "\n",
    "    # obj/instance var that is not an arg in the __init__ function\n",
    "    student_id: int = field(init=False) \n",
    "    # field(init=False) is used so __init__ func doesn't take std_id as an arg\n",
    "\n",
    "\n",
    "    # __post_init__ func changes fields after  initialization (__init__) of vars \n",
    "    def __post_init__(self):\n",
    "        self.student_id = Student.CURRENT_ID\n",
    "        Student.CURRENT_ID+=1\n",
    "    \n",
    "\n",
    "    def sleep(self) -> None:\n",
    "        print(\"zzzzzzzz\")\n",
    "\n",
    "    def __str__(self) -> str:\n",
    "        return \"ID: {}, Name: {}, Age: {}, Gender: {}\".format(self.student_id, self.name, self.age, self.gender)"
   ]
  },
  {
   "cell_type": "code",
   "execution_count": 4,
   "metadata": {},
   "outputs": [
    {
     "name": "stdout",
     "output_type": "stream",
     "text": [
      "ID: 1000000, Name: Bob, Age: 18, Gender: male\n",
      "ID: 1000001, Name: Sarah, Age: 19, Gender: female\n",
      "ID: 1000002, Name: Adi, Age: 19, Gender: make\n"
     ]
    }
   ],
   "source": [
    "student1 = Student('Bob', 18, 'male')\n",
    "print(student1)\n",
    "\n",
    "student2 = Student('Sarah', 19, 'female')\n",
    "print(student2)\n",
    "\n",
    "student3 = Student('Adi', 19, 'make')\n",
    "print(student3)"
   ]
  }
 ],
 "metadata": {
  "kernelspec": {
   "display_name": "Python 3",
   "language": "python",
   "name": "python3"
  },
  "language_info": {
   "codemirror_mode": {
    "name": "ipython",
    "version": 3
   },
   "file_extension": ".py",
   "mimetype": "text/x-python",
   "name": "python",
   "nbconvert_exporter": "python",
   "pygments_lexer": "ipython3",
   "version": "3.11.4"
  },
  "orig_nbformat": 4,
  "vscode": {
   "interpreter": {
    "hash": "b0fa6594d8f4cbf19f97940f81e996739fb7646882a419484c72d19e05852a7e"
   }
  }
 },
 "nbformat": 4,
 "nbformat_minor": 2
}
