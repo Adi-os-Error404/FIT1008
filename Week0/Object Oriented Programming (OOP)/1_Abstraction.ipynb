{
 "cells": [
  {
   "attachments": {},
   "cell_type": "markdown",
   "metadata": {},
   "source": [
    "## Abstraction:\n",
    "\n",
    "> Abstraction is used for __hiding__ the background details or any unnecessary __`implementation`__ of the data so that users only see the required information.\n",
    "\n",
    "> A __class__ that consists of __abstract method/s__ is called an \"__abstract class__\".\n",
    "\n",
    "> An __abstract class__ can act like a blueprint to other classes, which are useful when we are designing __large__ functions. \n",
    "\n",
    "> The __subclass__ which inherits an __abstract class__ can refer to the __abstract methods__ for __`implementing`__ the features.\n",
    "\n",
    "<br>\n",
    "\n",
    "#### Some notable points:\n",
    "\n",
    "- Abstract classes cannot be instantiated. In simple words, we cannot create objects for the abstract classes.\n",
    "\n",
    "- An abstract class can contain both types of methods: normal and abstract methods. \n",
    "\n",
    "- In the abstract methods, we do not provide any definition or code. But in the normal methods, we provide the implementation of the code needed for the method.\n",
    "\n",
    "- An abstract methods can have some implementation, they simply need to be redefined. \n",
    "It is often preferable to implement the shared functionality in the abstract method and use super( ) to invoke this in the concrete class.\n",
    "\n",
    "<br>\n",
    "<br>\n",
    "\n",
    "<img style=\"background:white;\" src=\"https://javatutorial.net/wp-content/uploads/2017/10/abstract-class-example.png\" width=\"600px\">\n",
    "\n"
   ]
  },
  {
   "cell_type": "code",
   "execution_count": 1,
   "metadata": {},
   "outputs": [],
   "source": [
    "from abc import ABC, abstractmethod # import abc module to use abstraction\n",
    "\n",
    "# an abstract Class made by its abstract methods\n",
    "\n",
    "class Vehicle(ABC): # \"Vehicle\" class inherits an abstract class \"ABC\"\n",
    "\n",
    "    # the below method is an abstract method\n",
    "    @abstractmethod\n",
    "    def no_of_wheels(self):\n",
    "        pass"
   ]
  },
  {
   "cell_type": "code",
   "execution_count": 2,
   "metadata": {},
   "outputs": [
    {
     "name": "stdout",
     "output_type": "stream",
     "text": [
      "Bikes have 2 wheels\n",
      "Cars have 4 wheels\n",
      "Trucks have 8 wheels\n"
     ]
    }
   ],
   "source": [
    "class Bike(Vehicle):\n",
    "    def no_of_wheels(self): # provide definition for abstract method\n",
    "        print(\"Bikes have 2 wheels\")  \n",
    "\n",
    "class Car(Vehicle):\n",
    "    \n",
    "    def no_of_wheels(self): # provide definition for abstract method\n",
    "        print(\"Cars have 4 wheels\")\n",
    "\n",
    "class Truck(Vehicle):  \n",
    "    def no_of_wheels(self): # provide definition for abstract method\n",
    "        print(\"Trucks have 8 wheels\")\n",
    "\n",
    "if __name__ == '__main__':\n",
    "    bike = Bike()\n",
    "    bike.no_of_wheels()\n",
    "    car = Car()\n",
    "    car.no_of_wheels()\n",
    "    truck = Truck()\n",
    "    truck.no_of_wheels()"
   ]
  }
 ],
 "metadata": {
  "kernelspec": {
   "display_name": "Python 3",
   "language": "python",
   "name": "python3"
  },
  "language_info": {
   "codemirror_mode": {
    "name": "ipython",
    "version": 3
   },
   "file_extension": ".py",
   "mimetype": "text/x-python",
   "name": "python",
   "nbconvert_exporter": "python",
   "pygments_lexer": "ipython3",
   "version": "3.11.4 (main, Jun 20 2023, 17:23:00) [Clang 14.0.3 (clang-1403.0.22.14.1)]"
  },
  "orig_nbformat": 4,
  "vscode": {
   "interpreter": {
    "hash": "b0fa6594d8f4cbf19f97940f81e996739fb7646882a419484c72d19e05852a7e"
   }
  }
 },
 "nbformat": 4,
 "nbformat_minor": 2
}
