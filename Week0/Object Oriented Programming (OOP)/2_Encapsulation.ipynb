{
 "cells": [
  {
   "attachments": {},
   "cell_type": "markdown",
   "metadata": {},
   "source": [
    "## Encapsulation\n",
    "\n",
    "> Encapsulation is the idea that a class can __package data together__ with the __methods__ that __access &manipulate the data__. \n",
    "\n",
    "> __Information Hiding__ promotes quality code by allowing objects to protect their state __against direct manipulation__ by code using the object.\n",
    "\n",
    "\n",
    "### Access Modifiers\n",
    "\n",
    "Access modifiers __limit__ access to the __VARIABLES and METHODS__ of a class. \n",
    "\n",
    "- `Public Member` (\"\"): Accessible anywhere from outside the class.\n",
    "\n",
    "- `Protected Member`(\"_\"): Accessible within the class and its sub-classes\n",
    "\n",
    "- `Private Member` (\"__\"): Accessible only within the class\n",
    "\n",
    "\n",
    "<br>\n",
    "\n",
    "<img src=\"https://www.crio.do/blog/content/images/2022/01/What-is-Encapsulation.png\" width=\"700px\">"
   ]
  },
  {
   "cell_type": "code",
   "execution_count": 9,
   "metadata": {},
   "outputs": [],
   "source": [
    "class Library:\n",
    "    def __init__(self, book_id, name):\n",
    "        self.book_id = book_id\n",
    "        self.book_name = name\n",
    "        \n",
    "    def set_book_name(self, new_name): #set method to set the book name\n",
    "        self.book_name = new_name\n",
    "        \n",
    "    def get_book_name(self): #get method to get the book name\n",
    "        return self.book_name"
   ]
  },
  {
   "cell_type": "code",
   "execution_count": 10,
   "metadata": {},
   "outputs": [
    {
     "name": "stdout",
     "output_type": "stream",
     "text": [
      "The Witchers\n",
      "The Witchers Returns\n"
     ]
    }
   ],
   "source": [
    "book = Library(101,\"The Witchers\")\n",
    "print(book.get_book_name())\n",
    "\n",
    "book.set_book_name(\"The Witchers Returns\")\n",
    "print(book.get_book_name())"
   ]
  },
  {
   "cell_type": "code",
   "execution_count": 11,
   "metadata": {},
   "outputs": [],
   "source": [
    "class Employee:\n",
    "    def __init__(self, name, employee_id, salary):\n",
    "        self.name = name    #making employee name public\n",
    "        self._employee_id = employee_id  #making employee ID protected\n",
    "        self.__salary = salary  #making salary private\n",
    "\n",
    "    def get_salary(self):\n",
    "        return self.__salary"
   ]
  },
  {
   "cell_type": "code",
   "execution_count": 12,
   "metadata": {},
   "outputs": [
    {
     "name": "stdout",
     "output_type": "stream",
     "text": [
      "Peter Parker ID: 110514\n",
      "Peter Parker Salary: $1500\n"
     ]
    },
    {
     "ename": "AttributeError",
     "evalue": "'Employee' object has no attribute '__salary'",
     "output_type": "error",
     "traceback": [
      "\u001b[0;31m---------------------------------------------------------------------------\u001b[0m",
      "\u001b[0;31mAttributeError\u001b[0m                            Traceback (most recent call last)",
      "Cell \u001b[0;32mIn[12], line 7\u001b[0m\n\u001b[1;32m      3\u001b[0m \u001b[39mprint\u001b[39m(\u001b[39mf\u001b[39m\u001b[39m\"\u001b[39m\u001b[39m{\u001b[39;00memployee1\u001b[39m.\u001b[39mname\u001b[39m}\u001b[39;00m\u001b[39m ID: \u001b[39m\u001b[39m{\u001b[39;00memployee1\u001b[39m.\u001b[39m_employee_id\u001b[39m}\u001b[39;00m\u001b[39m\"\u001b[39m)\n\u001b[1;32m      5\u001b[0m \u001b[39mprint\u001b[39m(\u001b[39mf\u001b[39m\u001b[39m\"\u001b[39m\u001b[39m{\u001b[39;00memployee1\u001b[39m.\u001b[39mname\u001b[39m}\u001b[39;00m\u001b[39m Salary: \u001b[39m\u001b[39m{\u001b[39;00memployee1\u001b[39m.\u001b[39mget_salary()\u001b[39m}\u001b[39;00m\u001b[39m\"\u001b[39m) \u001b[39m# This is the correct way to call it\u001b[39;00m\n\u001b[0;32m----> 7\u001b[0m \u001b[39mprint\u001b[39m(\u001b[39mf\u001b[39m\u001b[39m\"\u001b[39m\u001b[39m{\u001b[39;00memployee1\u001b[39m.\u001b[39mname\u001b[39m}\u001b[39;00m\u001b[39m Salary:\u001b[39m\u001b[39m{\u001b[39;00memployee1\u001b[39m.\u001b[39;49m__salary\u001b[39m}\u001b[39;00m\u001b[39m\"\u001b[39m) \u001b[39m# This will throw an error because salary is defined as private\u001b[39;00m\n",
      "\u001b[0;31mAttributeError\u001b[0m: 'Employee' object has no attribute '__salary'"
     ]
    }
   ],
   "source": [
    "employee1 = Employee(\"Peter Parker\", 110514, \"$1500\")\n",
    "\n",
    "print(f\"{employee1.name} ID: {employee1._employee_id}\")\n",
    "\n",
    "print(f\"{employee1.name} Salary: {employee1.get_salary()}\") # This is the correct way to call it\n",
    "\n",
    "print(f\"{employee1.name} Salary:{employee1.__salary}\") # This will throw an ERROR because salary is defined as PRIVATE"
   ]
  },
  {
   "attachments": {},
   "cell_type": "markdown",
   "metadata": {},
   "source": [
    "### Even __methods__ can be \n",
    "- __Protected__ (not public but can be called from a subclass) \n",
    "\n",
    "- __Private__ (can only be called in its class)"
   ]
  }
 ],
 "metadata": {
  "kernelspec": {
   "display_name": "Python 3",
   "language": "python",
   "name": "python3"
  },
  "language_info": {
   "codemirror_mode": {
    "name": "ipython",
    "version": 3
   },
   "file_extension": ".py",
   "mimetype": "text/x-python",
   "name": "python",
   "nbconvert_exporter": "python",
   "pygments_lexer": "ipython3",
   "version": "3.11.4 (main, Jun 20 2023, 17:23:00) [Clang 14.0.3 (clang-1403.0.22.14.1)]"
  },
  "orig_nbformat": 4,
  "vscode": {
   "interpreter": {
    "hash": "b0fa6594d8f4cbf19f97940f81e996739fb7646882a419484c72d19e05852a7e"
   }
  }
 },
 "nbformat": 4,
 "nbformat_minor": 2
}
